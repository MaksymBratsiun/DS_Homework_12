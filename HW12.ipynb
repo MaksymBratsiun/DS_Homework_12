{
 "cells": [
  {
   "cell_type": "code",
   "execution_count": 18,
   "metadata": {
    "executionInfo": {
     "elapsed": 372,
     "status": "ok",
     "timestamp": 1693379387726,
     "user": {
      "displayName": "Maxim Bratsyun",
      "userId": "17606200134548359931"
     },
     "user_tz": -180
    },
    "id": "WsXyEv7f9S0Z"
   },
   "outputs": [],
   "source": [
    "import string\n",
    "\n",
    "import spacy\n",
    "import nltk\n",
    "import tensorflow as tf\n",
    "from heapq import nlargest\n",
    "from nltk.corpus import stopwords\n",
    "from nltk.tokenize import word_tokenize, sent_tokenize"
   ]
  },
  {
   "cell_type": "code",
   "execution_count": 19,
   "metadata": {},
   "outputs": [
    {
     "data": {
      "text/plain": [
       "[LogicalDevice(name='/device:CPU:0', device_type='CPU'),\n",
       " LogicalDevice(name='/device:GPU:0', device_type='GPU')]"
      ]
     },
     "execution_count": 19,
     "metadata": {},
     "output_type": "execute_result"
    }
   ],
   "source": [
    "tf.config.list_logical_devices()"
   ]
  },
  {
   "cell_type": "markdown",
   "metadata": {},
   "source": [
    " # Завдання\n",
    "Зробіть summary нижчевказаного тексту використовуючи бібліотеки для NLP: nltk та SpaCy"
   ]
  },
  {
   "cell_type": "code",
   "execution_count": 20,
   "metadata": {
    "colab": {
     "base_uri": "https://localhost:8080/",
     "height": 122
    },
    "executionInfo": {
     "elapsed": 10,
     "status": "ok",
     "timestamp": 1693378269978,
     "user": {
      "displayName": "Maxim Bratsyun",
      "userId": "17606200134548359931"
     },
     "user_tz": -180
    },
    "id": "OBlCIunI9Uq0",
    "outputId": "60f7f3c9-26c3-4476-81f6-b5f11fcf42b0"
   },
   "outputs": [
    {
     "data": {
      "text/plain": [
       "'The Orbiter Discovery, OV-103, is considered eligible for listing in the National Register of Historic Places (NRHP) in the context of the U.S. Space Shuttle Program (1969-2011) under Criterion A in the areas of Space Exploration and Transportation and under Criterion C in the area of Engineering. Because it has achieved significance within the past fifty years, Criteria Consideration G applies. Under Criterion A, Discovery is significant as the oldest of the three extant orbiter vehicles constructed for the Space Shuttle Program (SSP), the longest running American space program to date; she was the third of five orbiters built by NASA. Unlike the Mercury, Gemini, and Apollo programs, the SSP’s emphasis was on cost effectiveness and reusability, and eventually the construction of a space station. Including her maiden voyage (launched August 30, 1984), Discovery flew to space thirty-nine times, more than any of the other four orbiters; she was also the first orbiter to fly twenty missions. She had the honor of being chosen as the Return to Flight vehicle after both the Challenger and Columbia accidents. Discovery was the first shuttle to fly with the redesigned SRBs, a result of the Challenger accident, and the first shuttle to fly with the Phase II and Block I SSME. Discovery also carried the Hubble Space Telescope to orbit and performed two of the five servicing missions to the observatory. She flew the first and last dedicated Department of Defense (DoD) missions, as well as the first unclassified defense-related mission. In addition, Discovery was vital to the construction of the International Space Station (ISS); she flew thirteen of the thirty-seven total missions flown to the station by a U.S. Space Shuttle. She was the first orbiter to dock to the ISS, and the first to perform an exchange of a resident crew. Under Criterion C, Discovery is significant as a feat of engineering. According to Wayne Hale, a flight director from Johnson Space Center, the Space Shuttle orbiter represents a “huge technological leap from expendable rockets and capsules to a reusable, winged, hypersonic, cargo-carrying spacecraft.” Although her base structure followed a conventional aircraft design, she used advanced materials that both minimized her weight for cargo-carrying purposes and featured low thermal expansion ratios, which provided a stable base for her Thermal Protection System (TPS) materials. The Space Shuttle orbiter also featured the first reusable TPS; all previous spaceflight vehicles had a single-use, ablative heat shield. Other notable engineering achievements of the orbiter included the first reusable orbital propulsion system, and the first two-fault-tolerant Integrated Avionics System. As Hale stated, the Space Shuttle remains “the largest, fastest, winged hypersonic aircraft in history,” having regularly flown at twenty-five times the speed of sound.'"
      ]
     },
     "execution_count": 20,
     "metadata": {},
     "output_type": "execute_result"
    }
   ],
   "source": [
    "with open('ds12_text.txt', 'r') as fd:\n",
    "  text_file = fd.read()\n",
    "text_file"
   ]
  },
  {
   "cell_type": "code",
   "execution_count": 39,
   "metadata": {},
   "outputs": [
    {
     "name": "stdout",
     "output_type": "stream",
     "text": [
      "2023-08-30 10:56:54.427226: I tensorflow/core/platform/cpu_feature_guard.cc:182] This TensorFlow binary is optimized to use available CPU instructions in performance-critical operations.\n",
      "To enable the following instructions: AVX2 FMA, in other operations, rebuild TensorFlow with the appropriate compiler flags.\n",
      "2023-08-30 10:56:56.189708: I tensorflow/compiler/xla/stream_executor/cuda/cuda_gpu_executor.cc:981] could not open file to read NUMA node: /sys/bus/pci/devices/0000:06:00.0/numa_node\n",
      "Your kernel may have been built without NUMA support.\n",
      "2023-08-30 10:56:56.196182: I tensorflow/compiler/xla/stream_executor/cuda/cuda_gpu_executor.cc:981] could not open file to read NUMA node: /sys/bus/pci/devices/0000:06:00.0/numa_node\n",
      "Your kernel may have been built without NUMA support.\n",
      "2023-08-30 10:56:56.196521: I tensorflow/compiler/xla/stream_executor/cuda/cuda_gpu_executor.cc:981] could not open file to read NUMA node: /sys/bus/pci/devices/0000:06:00.0/numa_node\n",
      "Your kernel may have been built without NUMA support.\n",
      "Collecting en-core-web-sm==3.6.0\n",
      "  Downloading https://github.com/explosion/spacy-models/releases/download/en_core_web_sm-3.6.0/en_core_web_sm-3.6.0-py3-none-any.whl (12.8 MB)\n",
      "\u001b[2K     \u001b[90m━━━━━━━━━━━━━━━━━━━━━━━━━━━━━━━━━━━━━━━━\u001b[0m \u001b[32m12.8/12.8 MB\u001b[0m \u001b[31m2.9 MB/s\u001b[0m eta \u001b[36m0:00:00\u001b[0m00:01\u001b[0m00:01\u001b[0mm\n",
      "\u001b[?25hRequirement already satisfied: spacy<3.7.0,>=3.6.0 in /usr/local/lib/python3.8/dist-packages (from en-core-web-sm==3.6.0) (3.6.1)\n",
      "Requirement already satisfied: spacy-legacy<3.1.0,>=3.0.11 in /usr/local/lib/python3.8/dist-packages (from spacy<3.7.0,>=3.6.0->en-core-web-sm==3.6.0) (3.0.12)\n",
      "Requirement already satisfied: spacy-loggers<2.0.0,>=1.0.0 in /usr/local/lib/python3.8/dist-packages (from spacy<3.7.0,>=3.6.0->en-core-web-sm==3.6.0) (1.0.4)\n",
      "Requirement already satisfied: murmurhash<1.1.0,>=0.28.0 in /usr/local/lib/python3.8/dist-packages (from spacy<3.7.0,>=3.6.0->en-core-web-sm==3.6.0) (1.0.9)\n",
      "Requirement already satisfied: cymem<2.1.0,>=2.0.2 in /usr/local/lib/python3.8/dist-packages (from spacy<3.7.0,>=3.6.0->en-core-web-sm==3.6.0) (2.0.7)\n",
      "Requirement already satisfied: preshed<3.1.0,>=3.0.2 in /usr/local/lib/python3.8/dist-packages (from spacy<3.7.0,>=3.6.0->en-core-web-sm==3.6.0) (3.0.8)\n",
      "Requirement already satisfied: thinc<8.2.0,>=8.1.8 in /usr/local/lib/python3.8/dist-packages (from spacy<3.7.0,>=3.6.0->en-core-web-sm==3.6.0) (8.1.12)\n",
      "Requirement already satisfied: wasabi<1.2.0,>=0.9.1 in /usr/local/lib/python3.8/dist-packages (from spacy<3.7.0,>=3.6.0->en-core-web-sm==3.6.0) (1.1.2)\n",
      "Requirement already satisfied: srsly<3.0.0,>=2.4.3 in /usr/local/lib/python3.8/dist-packages (from spacy<3.7.0,>=3.6.0->en-core-web-sm==3.6.0) (2.4.7)\n",
      "Requirement already satisfied: catalogue<2.1.0,>=2.0.6 in /usr/local/lib/python3.8/dist-packages (from spacy<3.7.0,>=3.6.0->en-core-web-sm==3.6.0) (2.0.9)\n",
      "Requirement already satisfied: typer<0.10.0,>=0.3.0 in /usr/local/lib/python3.8/dist-packages (from spacy<3.7.0,>=3.6.0->en-core-web-sm==3.6.0) (0.9.0)\n",
      "Requirement already satisfied: pathy>=0.10.0 in /usr/local/lib/python3.8/dist-packages (from spacy<3.7.0,>=3.6.0->en-core-web-sm==3.6.0) (0.10.2)\n",
      "Requirement already satisfied: smart-open<7.0.0,>=5.2.1 in /usr/local/lib/python3.8/dist-packages (from spacy<3.7.0,>=3.6.0->en-core-web-sm==3.6.0) (6.3.0)\n",
      "Requirement already satisfied: tqdm<5.0.0,>=4.38.0 in /usr/local/lib/python3.8/dist-packages (from spacy<3.7.0,>=3.6.0->en-core-web-sm==3.6.0) (4.66.1)\n",
      "Requirement already satisfied: numpy>=1.15.0 in /usr/local/lib/python3.8/dist-packages (from spacy<3.7.0,>=3.6.0->en-core-web-sm==3.6.0) (1.24.3)\n",
      "Requirement already satisfied: requests<3.0.0,>=2.13.0 in /usr/lib/python3/dist-packages (from spacy<3.7.0,>=3.6.0->en-core-web-sm==3.6.0) (2.22.0)\n",
      "Requirement already satisfied: pydantic!=1.8,!=1.8.1,<3.0.0,>=1.7.4 in /usr/local/lib/python3.8/dist-packages (from spacy<3.7.0,>=3.6.0->en-core-web-sm==3.6.0) (2.3.0)\n",
      "Requirement already satisfied: jinja2 in /usr/local/lib/python3.8/dist-packages (from spacy<3.7.0,>=3.6.0->en-core-web-sm==3.6.0) (3.1.2)\n",
      "Requirement already satisfied: setuptools in /usr/local/lib/python3.8/dist-packages (from spacy<3.7.0,>=3.6.0->en-core-web-sm==3.6.0) (68.0.0)\n",
      "Requirement already satisfied: packaging>=20.0 in /usr/local/lib/python3.8/dist-packages (from spacy<3.7.0,>=3.6.0->en-core-web-sm==3.6.0) (23.1)\n",
      "Requirement already satisfied: langcodes<4.0.0,>=3.2.0 in /usr/local/lib/python3.8/dist-packages (from spacy<3.7.0,>=3.6.0->en-core-web-sm==3.6.0) (3.3.0)\n",
      "Requirement already satisfied: annotated-types>=0.4.0 in /usr/local/lib/python3.8/dist-packages (from pydantic!=1.8,!=1.8.1,<3.0.0,>=1.7.4->spacy<3.7.0,>=3.6.0->en-core-web-sm==3.6.0) (0.5.0)\n",
      "Requirement already satisfied: pydantic-core==2.6.3 in /usr/local/lib/python3.8/dist-packages (from pydantic!=1.8,!=1.8.1,<3.0.0,>=1.7.4->spacy<3.7.0,>=3.6.0->en-core-web-sm==3.6.0) (2.6.3)\n",
      "Requirement already satisfied: typing-extensions>=4.6.1 in /usr/local/lib/python3.8/dist-packages (from pydantic!=1.8,!=1.8.1,<3.0.0,>=1.7.4->spacy<3.7.0,>=3.6.0->en-core-web-sm==3.6.0) (4.7.1)\n",
      "Requirement already satisfied: blis<0.8.0,>=0.7.8 in /usr/local/lib/python3.8/dist-packages (from thinc<8.2.0,>=8.1.8->spacy<3.7.0,>=3.6.0->en-core-web-sm==3.6.0) (0.7.10)\n",
      "Requirement already satisfied: confection<1.0.0,>=0.0.1 in /usr/local/lib/python3.8/dist-packages (from thinc<8.2.0,>=8.1.8->spacy<3.7.0,>=3.6.0->en-core-web-sm==3.6.0) (0.1.1)\n",
      "Requirement already satisfied: click<9.0.0,>=7.1.1 in /usr/local/lib/python3.8/dist-packages (from typer<0.10.0,>=0.3.0->spacy<3.7.0,>=3.6.0->en-core-web-sm==3.6.0) (8.1.7)\n",
      "Requirement already satisfied: MarkupSafe>=2.0 in /usr/local/lib/python3.8/dist-packages (from jinja2->spacy<3.7.0,>=3.6.0->en-core-web-sm==3.6.0) (2.1.3)\n",
      "\u001b[33mWARNING: Running pip as the 'root' user can result in broken permissions and conflicting behaviour with the system package manager. It is recommended to use a virtual environment instead: https://pip.pypa.io/warnings/venv\u001b[0m\u001b[33m\n",
      "\u001b[0m\u001b[38;5;2m✔ Download and installation successful\u001b[0m\n",
      "You can now load the package via spacy.load('en_core_web_sm')\n"
     ]
    }
   ],
   "source": [
    "!python -m spacy download en_core_web_sm"
   ]
  },
  {
   "cell_type": "code",
   "execution_count": 23,
   "metadata": {
    "id": "MQxZXheA9W5Q"
   },
   "outputs": [
    {
     "name": "stderr",
     "output_type": "stream",
     "text": [
      "[nltk_data] Downloading package punkt to /root/nltk_data...\n",
      "[nltk_data]   Unzipping tokenizers/punkt.zip.\n",
      "[nltk_data] Downloading package stopwords to /root/nltk_data...\n",
      "[nltk_data]   Unzipping corpora/stopwords.zip.\n"
     ]
    },
    {
     "data": {
      "text/plain": [
       "True"
      ]
     },
     "execution_count": 23,
     "metadata": {},
     "output_type": "execute_result"
    }
   ],
   "source": [
    "nlp = spacy.load('en_core_web_sm')\n",
    "nltk.download('punkt')\n",
    "nltk.download('stopwords')"
   ]
  },
  {
   "cell_type": "code",
   "execution_count": 28,
   "metadata": {
    "colab": {
     "base_uri": "https://localhost:8080/",
     "height": 35
    },
    "executionInfo": {
     "elapsed": 506,
     "status": "ok",
     "timestamp": 1693378287761,
     "user": {
      "displayName": "Maxim Bratsyun",
      "userId": "17606200134548359931"
     },
     "user_tz": -180
    },
    "id": "r0BzsvB5Cg-T",
    "outputId": "722507f7-4319-4ded-8705-adbf82141186"
   },
   "outputs": [
    {
     "data": {
      "text/plain": [
       "'!\"#$%&\\'()*+,-./:;<=>?@[\\\\]^_`{|}~'"
      ]
     },
     "execution_count": 28,
     "metadata": {},
     "output_type": "execute_result"
    }
   ],
   "source": [
    "doc = nlp(text_file)\n",
    "tokens = word_tokenize(text_file)\n",
    "sentences = sent_tokenize(text_file)\n",
    "stop_words = set(stopwords.words('english'))\n",
    "punctuation = string.punctuation\n",
    "punctuation"
   ]
  },
  {
   "cell_type": "code",
   "execution_count": 38,
   "metadata": {
    "executionInfo": {
     "elapsed": 322,
     "status": "ok",
     "timestamp": 1693378296155,
     "user": {
      "displayName": "Maxim Bratsyun",
      "userId": "17606200134548359931"
     },
     "user_tz": -180
    },
    "id": "Ci9QVvtxDgZM"
   },
   "outputs": [
    {
     "data": {
      "text/plain": [
       "{'Orbiter': 1,\n",
       " 'Discovery': 7,\n",
       " 'OV-103': 1,\n",
       " 'considered': 1,\n",
       " 'eligible': 1,\n",
       " 'listing': 1,\n",
       " 'National': 1,\n",
       " 'Register': 1,\n",
       " 'Historic': 1,\n",
       " 'Places': 1,\n",
       " 'NRHP': 1,\n",
       " 'context': 1,\n",
       " 'U.S.': 2,\n",
       " 'Space': 10,\n",
       " 'Shuttle': 6,\n",
       " 'Program': 2,\n",
       " '1969': 1,\n",
       " '2011': 1,\n",
       " 'Criterion': 4,\n",
       " 'areas': 1,\n",
       " 'Exploration': 1,\n",
       " 'Transportation': 1,\n",
       " 'C': 2,\n",
       " 'area': 1,\n",
       " 'Engineering': 1,\n",
       " 'achieved': 1,\n",
       " 'significance': 1,\n",
       " 'within': 1,\n",
       " 'past': 1,\n",
       " 'fifty': 1,\n",
       " 'years': 1,\n",
       " 'Criteria': 1,\n",
       " 'Consideration': 1,\n",
       " 'G': 1,\n",
       " 'applies': 1,\n",
       " 'significant': 2,\n",
       " 'oldest': 1,\n",
       " 'three': 1,\n",
       " 'extant': 1,\n",
       " 'orbiter': 6,\n",
       " 'vehicles': 2,\n",
       " 'constructed': 1,\n",
       " 'SSP': 2,\n",
       " 'longest': 1,\n",
       " 'running': 1,\n",
       " 'American': 1,\n",
       " 'space': 3,\n",
       " 'program': 1,\n",
       " 'date': 1,\n",
       " 'third': 1,\n",
       " 'five': 3,\n",
       " 'orbiters': 2,\n",
       " 'built': 1,\n",
       " 'NASA': 1,\n",
       " 'Unlike': 1,\n",
       " 'Mercury': 1,\n",
       " 'Gemini': 1,\n",
       " 'Apollo': 1,\n",
       " 'programs': 1,\n",
       " '’s': 1,\n",
       " 'emphasis': 1,\n",
       " 'cost': 1,\n",
       " 'effectiveness': 1,\n",
       " 'reusability': 1,\n",
       " 'eventually': 1,\n",
       " 'construction': 2,\n",
       " 'station': 2,\n",
       " 'Including': 1,\n",
       " 'maiden': 1,\n",
       " 'voyage': 1,\n",
       " 'launched': 1,\n",
       " 'August': 1,\n",
       " '30': 1,\n",
       " '1984': 1,\n",
       " 'flew': 3,\n",
       " 'thirty': 2,\n",
       " 'nine': 1,\n",
       " 'times': 2,\n",
       " 'four': 1,\n",
       " 'also': 3,\n",
       " 'first': 10,\n",
       " 'fly': 3,\n",
       " 'twenty': 2,\n",
       " 'missions': 4,\n",
       " 'honor': 1,\n",
       " 'chosen': 1,\n",
       " 'Return': 1,\n",
       " 'Flight': 1,\n",
       " 'vehicle': 1,\n",
       " 'Challenger': 2,\n",
       " 'Columbia': 1,\n",
       " 'accidents': 1,\n",
       " 'shuttle': 2,\n",
       " 'redesigned': 1,\n",
       " 'SRBs': 1,\n",
       " 'result': 1,\n",
       " 'accident': 1,\n",
       " 'Phase': 1,\n",
       " 'II': 1,\n",
       " 'Block': 1,\n",
       " 'SSME': 1,\n",
       " 'carried': 1,\n",
       " 'Hubble': 1,\n",
       " 'Telescope': 1,\n",
       " 'orbit': 1,\n",
       " 'performed': 1,\n",
       " 'two': 2,\n",
       " 'servicing': 1,\n",
       " 'observatory': 1,\n",
       " 'last': 1,\n",
       " 'dedicated': 1,\n",
       " 'Department': 1,\n",
       " 'Defense': 1,\n",
       " 'DoD': 1,\n",
       " 'well': 1,\n",
       " 'unclassified': 1,\n",
       " 'defense': 1,\n",
       " 'related': 1,\n",
       " 'mission': 1,\n",
       " 'addition': 1,\n",
       " 'vital': 1,\n",
       " 'International': 1,\n",
       " 'Station': 1,\n",
       " 'ISS': 2,\n",
       " 'thirteen': 1,\n",
       " 'seven': 1,\n",
       " 'total': 1,\n",
       " 'flown': 2,\n",
       " 'dock': 1,\n",
       " 'perform': 1,\n",
       " 'exchange': 1,\n",
       " 'resident': 1,\n",
       " 'crew': 1,\n",
       " 'feat': 1,\n",
       " 'engineering': 2,\n",
       " 'According': 1,\n",
       " 'Wayne': 1,\n",
       " 'Hale': 2,\n",
       " 'flight': 1,\n",
       " 'director': 1,\n",
       " 'Johnson': 1,\n",
       " 'Center': 1,\n",
       " 'represents': 1,\n",
       " '“': 2,\n",
       " 'huge': 1,\n",
       " 'technological': 1,\n",
       " 'leap': 1,\n",
       " 'expendable': 1,\n",
       " 'rockets': 1,\n",
       " 'capsules': 1,\n",
       " 'reusable': 3,\n",
       " 'winged': 2,\n",
       " 'hypersonic': 2,\n",
       " 'cargo': 2,\n",
       " 'carrying': 2,\n",
       " 'spacecraft': 1,\n",
       " '”': 2,\n",
       " 'Although': 1,\n",
       " 'base': 2,\n",
       " 'structure': 1,\n",
       " 'followed': 1,\n",
       " 'conventional': 1,\n",
       " 'aircraft': 2,\n",
       " 'design': 1,\n",
       " 'used': 1,\n",
       " 'advanced': 1,\n",
       " 'materials': 2,\n",
       " 'minimized': 1,\n",
       " 'weight': 1,\n",
       " 'purposes': 1,\n",
       " 'featured': 2,\n",
       " 'low': 1,\n",
       " 'thermal': 1,\n",
       " 'expansion': 1,\n",
       " 'ratios': 1,\n",
       " 'provided': 1,\n",
       " 'stable': 1,\n",
       " 'Thermal': 1,\n",
       " 'Protection': 1,\n",
       " 'System': 2,\n",
       " 'TPS': 2,\n",
       " 'previous': 1,\n",
       " 'spaceflight': 1,\n",
       " 'single': 1,\n",
       " 'use': 1,\n",
       " 'ablative': 1,\n",
       " 'heat': 1,\n",
       " 'shield': 1,\n",
       " 'notable': 1,\n",
       " 'achievements': 1,\n",
       " 'included': 1,\n",
       " 'orbital': 1,\n",
       " 'propulsion': 1,\n",
       " 'system': 1,\n",
       " 'fault': 1,\n",
       " 'tolerant': 1,\n",
       " 'Integrated': 1,\n",
       " 'Avionics': 1,\n",
       " 'stated': 1,\n",
       " 'remains': 1,\n",
       " 'largest': 1,\n",
       " 'fastest': 1,\n",
       " 'history': 1,\n",
       " 'regularly': 1,\n",
       " 'speed': 1,\n",
       " 'sound': 1}"
      ]
     },
     "execution_count": 38,
     "metadata": {},
     "output_type": "execute_result"
    }
   ],
   "source": [
    "word_frequencies = {}\n",
    "for word in doc:\n",
    "  if word.text.lower() not in stop_words:\n",
    "    if word.text.lower() not in punctuation:\n",
    "      if word.text not in word_frequencies.keys():\n",
    "        word_frequencies[word.text] = 1\n",
    "      else:\n",
    "        word_frequencies[word.text] += 1\n",
    "word_frequencies"
   ]
  },
  {
   "cell_type": "code",
   "execution_count": 36,
   "metadata": {
    "colab": {
     "base_uri": "https://localhost:8080/"
    },
    "executionInfo": {
     "elapsed": 343,
     "status": "ok",
     "timestamp": 1693378654478,
     "user": {
      "displayName": "Maxim Bratsyun",
      "userId": "17606200134548359931"
     },
     "user_tz": -180
    },
    "id": "z-L561p2LdWu",
    "outputId": "15f7aadb-23e6-4257-fca6-13ed178aa4f0"
   },
   "outputs": [
    {
     "data": {
      "text/plain": [
       "[('Space', 10),\n",
       " ('first', 10),\n",
       " ('Discovery', 7),\n",
       " ('Shuttle', 6),\n",
       " ('orbiter', 6),\n",
       " ('Criterion', 4),\n",
       " ('missions', 4),\n",
       " ('space', 3),\n",
       " ('five', 3),\n",
       " ('flew', 3),\n",
       " ('also', 3),\n",
       " ('fly', 3),\n",
       " ('reusable', 3),\n",
       " ('U.S.', 2),\n",
       " ('Program', 2),\n",
       " ('C', 2)]"
      ]
     },
     "execution_count": 36,
     "metadata": {},
     "output_type": "execute_result"
    }
   ],
   "source": [
    "symmary_nltk = sorted(word_frequencies.items(), key= lambda x: x[1], reverse=True)[:16]\n",
    "symmary_nltk"
   ]
  },
  {
   "cell_type": "code",
   "execution_count": 34,
   "metadata": {
    "colab": {
     "base_uri": "https://localhost:8080/"
    },
    "executionInfo": {
     "elapsed": 557,
     "status": "ok",
     "timestamp": 1693379582503,
     "user": {
      "displayName": "Maxim Bratsyun",
      "userId": "17606200134548359931"
     },
     "user_tz": -180
    },
    "id": "3tfa9jngR5dx",
    "outputId": "22b41142-9b03-41e1-849e-001a86dcb20a"
   },
   "outputs": [
    {
     "data": {
      "text/plain": [
       "['Space',\n",
       " 'first',\n",
       " 'Discovery',\n",
       " 'Shuttle',\n",
       " 'orbiter',\n",
       " 'Criterion',\n",
       " 'missions',\n",
       " 'space',\n",
       " 'five',\n",
       " 'flew',\n",
       " 'also',\n",
       " 'fly',\n",
       " 'reusable',\n",
       " 'U.S.',\n",
       " 'Program',\n",
       " 'C']"
      ]
     },
     "execution_count": 34,
     "metadata": {},
     "output_type": "execute_result"
    }
   ],
   "source": [
    "select_length = int(len(sentences))\n",
    "summary = nlargest(select_length, word_frequencies, key = word_frequencies.get)\n",
    "summary"
   ]
  },
  {
   "cell_type": "markdown",
   "metadata": {},
   "source": [
    "# Conclusion:\n",
    "Отримали 16 найчастіше вживаних слів що описують даний текст. В ньому йдеться про історію космічної програми Шатл. nltk та heapq дають одні й тіж самі результати  потребують попередню обробку але nltk потребує і подальшу на відміну від heapq"
   ]
  },
  {
   "cell_type": "code",
   "execution_count": null,
   "metadata": {},
   "outputs": [],
   "source": []
  }
 ],
 "metadata": {
  "colab": {
   "authorship_tag": "ABX9TyPxy/3mRAozHNYAdYyexnLj",
   "mount_file_id": "1K3s4tfVLi99kuaK1h1jtE-OkDcXDE2g1",
   "provenance": []
  },
  "kernelspec": {
   "display_name": "Python 3 (ipykernel)",
   "language": "python",
   "name": "python3"
  },
  "language_info": {
   "codemirror_mode": {
    "name": "ipython",
    "version": 3
   },
   "file_extension": ".py",
   "mimetype": "text/x-python",
   "name": "python",
   "nbconvert_exporter": "python",
   "pygments_lexer": "ipython3",
   "version": "3.8.10"
  }
 },
 "nbformat": 4,
 "nbformat_minor": 1
}
